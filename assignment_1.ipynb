{
 "cells": [
  {
   "cell_type": "markdown",
   "id": "87b91d83",
   "metadata": {},
   "source": [
    "# Assignment 1\n",
    "### Understanding Uncertainty\n",
    "### Due 9/5"
   ]
  },
  {
   "cell_type": "markdown",
   "id": "380e339f",
   "metadata": {},
   "source": [
    "1. Create a new public repo on Github under your account. Include a readme file.\n",
    "2. Clone it to your machine. Put this file into that repo.\n",
    "3. Use the following function to download the example data for the course:"
   ]
  },
  {
   "cell_type": "code",
   "execution_count": 4,
   "id": "2d62b4f6",
   "metadata": {},
   "outputs": [
    {
     "name": "stdout",
     "output_type": "stream",
     "text": [
      "Download file already exists\n",
      "Data directory already exists\n"
     ]
    }
   ],
   "source": [
    "def download_data(force=False):\n",
    "    \"\"\"Download and extract course data from Zenodo.\"\"\"\n",
    "    import urllib.request, zipfile, os\n",
    "    \n",
    "    zip_path = 'data.zip'\n",
    "    data_dir = 'data'\n",
    "    \n",
    "    if not os.path.exists(zip_path) or force:\n",
    "        print(\"Downloading course data\")\n",
    "        urllib.request.urlretrieve(\n",
    "            'https://zenodo.org/records/16954427/files/data.zip?download=1',\n",
    "            zip_path\n",
    "        )\n",
    "        print(\"Download complete\")\n",
    "    else:\n",
    "        print(\"Download file already exists\")\n",
    "        \n",
    "    if not os.path.exists(data_dir) or force:\n",
    "        print(\"Extracting data files...\")\n",
    "        with zipfile.ZipFile(zip_path, 'r') as zip_ref:\n",
    "            zip_ref.extractall(data_dir)\n",
    "        print(\"Data extracted\")\n",
    "    else:\n",
    "        print(\"Data directory already exists\")\n",
    "\n",
    "download_data()"
   ]
  },
  {
   "cell_type": "markdown",
   "id": "01db0045",
   "metadata": {},
   "source": [
    "4. Open one of the datasets using Pandas:\n",
    "    1. `ames_prices.csv`: Housing characteristics and prices\n",
    "    2. `college_completion.csv`: Public, nonprofit, and for-profit educational institutions, graduation rates, and financial aid\n",
    "    3. `ForeignGifts_edu.csv`: Monetary and in-kind transfers from foreign entities to U.S. educational institutions\n",
    "    4. `iowa.csv`: Liquor sales in Iowa, at the transaction level\n",
    "    5. `metabric.csv`: Cancer patient and outcome data\n",
    "    6. `mn_police_use_of_force.csv`: Records of physical altercations between Minnessota police and private citizens\n",
    "    7. `nhanes_data_17_18.csv`: National Health and Nutrition Examination Survey\n",
    "    8. `tuna.csv`: Yellowfin Tuna Genome (I don't recommend this one; it's just a sequence of G, C, A, T )\n",
    "    9. `va_procurement.csv`: Public spending by the state of Virginia"
   ]
  },
  {
   "cell_type": "code",
   "execution_count": 5,
   "id": "d74dd385",
   "metadata": {},
   "outputs": [],
   "source": [
    "import pandas as pd \n",
    "\n",
    "data = pd.read_csv('/Users/jeff/Documents/DS5030/ds5030submissions/data/college_completion.csv')\n",
    "\n",
    "# print(data.head(5))\n"
   ]
  },
  {
   "cell_type": "markdown",
   "id": "fa5cade1",
   "metadata": {},
   "source": [
    "5. Pick two or three variables and briefly analyze them\n",
    "    - Is it a categorical or numeric variable?\n",
    "    - How many missing values are there? (`df['var'].isna()` and `np.sum()`)\n",
    "    - If categorical, tabulate the values (`df['var'].value_counts()`) and if numeric, get a summary (`df['var'].describe()`)"
   ]
  },
  {
   "cell_type": "code",
   "execution_count": 6,
   "id": "3dd18c7f",
   "metadata": {},
   "outputs": [
    {
     "name": "stdout",
     "output_type": "stream",
     "text": [
      "0\n",
      "count      3798.000000\n",
      "mean       4476.135334\n",
      "std        7376.868923\n",
      "min          23.000000\n",
      "25%         581.250000\n",
      "50%        1794.500000\n",
      "75%        5172.000000\n",
      "max      170144.000000\n",
      "Name: student_count, dtype: float64\n"
     ]
    }
   ],
   "source": [
    "# Variable: student_count\n",
    "# Numeric Variable \n",
    "\n",
    "# Number of Missing Values\n",
    "print(data['student_count'].isna().sum())\n",
    "\n",
    "# Summary \n",
    "\n",
    "print(data['student_count'].describe())"
   ]
  },
  {
   "cell_type": "code",
   "execution_count": 7,
   "id": "8d74ac25",
   "metadata": {},
   "outputs": [
    {
     "name": "stdout",
     "output_type": "stream",
     "text": [
      "3748\n",
      "flagship\n",
      "X    50\n",
      "Name: count, dtype: int64\n"
     ]
    }
   ],
   "source": [
    "# Variable: flagship\n",
    "# Categorical Variable \n",
    "\n",
    "# Number of Missing Values\n",
    "print(data['flagship'].isna().sum())\n",
    "\n",
    "# Tabulate\n",
    "\n",
    "print(data['flagship'].value_counts())"
   ]
  },
  {
   "cell_type": "markdown",
   "id": "dbf2318a",
   "metadata": {},
   "source": [
    "6. What are some questions and prediction tools you could create using these data? Who would the stakeholder be for that prediction tool? What practical or ethical questions would it create? What other data would you want, that are not available in your data?\n",
    "\n",
    "Question: If universities and higher education institutions want to optimize their graduation rate in order to improve student succcess, what factors are currently some of the strongest indictators of student success as defined by graduation rate? \n",
    "\n",
    "Tools: Linear and Logistic Regression Models, Decision Trees, Visualizations (Scatterplots)\n",
    "\n",
    "Stakeholder: University Administrations\n",
    "\n",
    "Practical and Ethical Questions: Knowing that marginalized groups are often part of groups that might be identified with lower graduation rates, how might these predictions tools be used in a manner that can be effectively curated to bring about an actionable outcome? \n",
    "\n",
    "Additional Data Needed: Other factors that might provide a more comprehensive background to student's academic backgrounds, such as the socioecnomic context of student's families, as well as information about the schools themselves such as student-to-faculty ratios. \n",
    "\n",
    "Question: Are certain groups of universities, such as HBCUs or public institutions, at a certain disadvantage when it comes to student success such as graduation and employment outcomes? If so, what factors are the strongest indicators of these differences? \n",
    "\n",
    "Tools: Visualizations (Boxplots, bar charts), T-tests, ANOVA, Regression Models, Tree-based ML Models\n",
    "\n",
    "Stakeholder: University Administrations, Prospective Students and Families, State policymakers\n",
    "\n",
    "Practical and Ethical Questions: If schools are underperforming across the board in various metrics, what actions might they need to take to ensure an equitable outcome for all of their students? \n",
    "\n",
    "Additional Data Needed: Financial Institution Data, Student-level demographic data, School department data, Greater socioecnomic data \n"
   ]
  },
  {
   "cell_type": "markdown",
   "id": "a4a7ddc7",
   "metadata": {},
   "source": [
    "7. Commit your work to the repo (`git commit -am 'Finish assignment'` at the command line, or use the Git panel in VS Code). Push your work back to Github and submit the link on Canvas in the assignment tab."
   ]
  }
 ],
 "metadata": {
  "kernelspec": {
   "display_name": "ds6001",
   "language": "python",
   "name": "python3"
  },
  "language_info": {
   "codemirror_mode": {
    "name": "ipython",
    "version": 3
   },
   "file_extension": ".py",
   "mimetype": "text/x-python",
   "name": "python",
   "nbconvert_exporter": "python",
   "pygments_lexer": "ipython3",
   "version": "3.13.5"
  }
 },
 "nbformat": 4,
 "nbformat_minor": 5
}
